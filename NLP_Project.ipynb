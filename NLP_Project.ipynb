{
 "cells": [
  {
   "cell_type": "code",
   "execution_count": 67,
   "id": "ca5b309b",
   "metadata": {},
   "outputs": [],
   "source": [
    "## Amazon Fine Food Reviews Analysis\n",
    "# Objective: Given a review, determine whether the review is positive or negative"
   ]
  },
  {
   "cell_type": "code",
   "execution_count": 68,
   "id": "af34e1e0",
   "metadata": {},
   "outputs": [],
   "source": [
    "# importing the necessity libraries\n",
    "import numpy as np\n",
    "import pandas as pd\n",
    "import sqlite3\n",
    "import seaborn as sns\n",
    "import matplotlib.pyplot as plt\n",
    "%matplotlib inline\n",
    "sns.set(style='white', color_codes=True)\n",
    "\n",
    "import warnings\n",
    "warnings.filterwarnings('ignore')"
   ]
  },
  {
   "cell_type": "code",
   "execution_count": 69,
   "id": "6d82c049",
   "metadata": {},
   "outputs": [
    {
     "data": {
      "text/html": [
       "<div>\n",
       "<style scoped>\n",
       "    .dataframe tbody tr th:only-of-type {\n",
       "        vertical-align: middle;\n",
       "    }\n",
       "\n",
       "    .dataframe tbody tr th {\n",
       "        vertical-align: top;\n",
       "    }\n",
       "\n",
       "    .dataframe thead th {\n",
       "        text-align: right;\n",
       "    }\n",
       "</style>\n",
       "<table border=\"1\" class=\"dataframe\">\n",
       "  <thead>\n",
       "    <tr style=\"text-align: right;\">\n",
       "      <th></th>\n",
       "      <th>Id</th>\n",
       "      <th>ProductId</th>\n",
       "      <th>UserId</th>\n",
       "      <th>ProfileName</th>\n",
       "      <th>HelpfulnessNumerator</th>\n",
       "      <th>HelpfulnessDenominator</th>\n",
       "      <th>Score</th>\n",
       "      <th>Time</th>\n",
       "      <th>Summary</th>\n",
       "      <th>Text</th>\n",
       "    </tr>\n",
       "  </thead>\n",
       "  <tbody>\n",
       "    <tr>\n",
       "      <th>0</th>\n",
       "      <td>1</td>\n",
       "      <td>B001E4KFG0</td>\n",
       "      <td>A3SGXH7AUHU8GW</td>\n",
       "      <td>delmartian</td>\n",
       "      <td>1</td>\n",
       "      <td>1</td>\n",
       "      <td>5</td>\n",
       "      <td>1303862400</td>\n",
       "      <td>Good Quality Dog Food</td>\n",
       "      <td>I have bought several of the Vitality canned d...</td>\n",
       "    </tr>\n",
       "    <tr>\n",
       "      <th>1</th>\n",
       "      <td>2</td>\n",
       "      <td>B00813GRG4</td>\n",
       "      <td>A1D87F6ZCVE5NK</td>\n",
       "      <td>dll pa</td>\n",
       "      <td>0</td>\n",
       "      <td>0</td>\n",
       "      <td>1</td>\n",
       "      <td>1346976000</td>\n",
       "      <td>Not as Advertised</td>\n",
       "      <td>Product arrived labeled as Jumbo Salted Peanut...</td>\n",
       "    </tr>\n",
       "    <tr>\n",
       "      <th>2</th>\n",
       "      <td>3</td>\n",
       "      <td>B000LQOCH0</td>\n",
       "      <td>ABXLMWJIXXAIN</td>\n",
       "      <td>Natalia Corres \"Natalia Corres\"</td>\n",
       "      <td>1</td>\n",
       "      <td>1</td>\n",
       "      <td>4</td>\n",
       "      <td>1219017600</td>\n",
       "      <td>\"Delight\" says it all</td>\n",
       "      <td>This is a confection that has been around a fe...</td>\n",
       "    </tr>\n",
       "    <tr>\n",
       "      <th>3</th>\n",
       "      <td>4</td>\n",
       "      <td>B000UA0QIQ</td>\n",
       "      <td>A395BORC6FGVXV</td>\n",
       "      <td>Karl</td>\n",
       "      <td>3</td>\n",
       "      <td>3</td>\n",
       "      <td>2</td>\n",
       "      <td>1307923200</td>\n",
       "      <td>Cough Medicine</td>\n",
       "      <td>If you are looking for the secret ingredient i...</td>\n",
       "    </tr>\n",
       "    <tr>\n",
       "      <th>4</th>\n",
       "      <td>5</td>\n",
       "      <td>B006K2ZZ7K</td>\n",
       "      <td>A1UQRSCLF8GW1T</td>\n",
       "      <td>Michael D. Bigham \"M. Wassir\"</td>\n",
       "      <td>0</td>\n",
       "      <td>0</td>\n",
       "      <td>5</td>\n",
       "      <td>1350777600</td>\n",
       "      <td>Great taffy</td>\n",
       "      <td>Great taffy at a great price.  There was a wid...</td>\n",
       "    </tr>\n",
       "  </tbody>\n",
       "</table>\n",
       "</div>"
      ],
      "text/plain": [
       "   Id   ProductId          UserId                      ProfileName  \\\n",
       "0   1  B001E4KFG0  A3SGXH7AUHU8GW                       delmartian   \n",
       "1   2  B00813GRG4  A1D87F6ZCVE5NK                           dll pa   \n",
       "2   3  B000LQOCH0   ABXLMWJIXXAIN  Natalia Corres \"Natalia Corres\"   \n",
       "3   4  B000UA0QIQ  A395BORC6FGVXV                             Karl   \n",
       "4   5  B006K2ZZ7K  A1UQRSCLF8GW1T    Michael D. Bigham \"M. Wassir\"   \n",
       "\n",
       "   HelpfulnessNumerator  HelpfulnessDenominator  Score        Time  \\\n",
       "0                     1                       1      5  1303862400   \n",
       "1                     0                       0      1  1346976000   \n",
       "2                     1                       1      4  1219017600   \n",
       "3                     3                       3      2  1307923200   \n",
       "4                     0                       0      5  1350777600   \n",
       "\n",
       "                 Summary                                               Text  \n",
       "0  Good Quality Dog Food  I have bought several of the Vitality canned d...  \n",
       "1      Not as Advertised  Product arrived labeled as Jumbo Salted Peanut...  \n",
       "2  \"Delight\" says it all  This is a confection that has been around a fe...  \n",
       "3         Cough Medicine  If you are looking for the secret ingredient i...  \n",
       "4            Great taffy  Great taffy at a great price.  There was a wid...  "
      ]
     },
     "execution_count": 69,
     "metadata": {},
     "output_type": "execute_result"
    }
   ],
   "source": [
    "con_rev = pd.read_csv('Reviews.csv', error_bad_lines=False)\n",
    "con_rev.head()"
   ]
  },
  {
   "cell_type": "code",
   "execution_count": 70,
   "id": "34a12de1",
   "metadata": {},
   "outputs": [
    {
     "name": "stdout",
     "output_type": "stream",
     "text": [
      "(525814, 10)\n"
     ]
    },
    {
     "data": {
      "text/html": [
       "<div>\n",
       "<style scoped>\n",
       "    .dataframe tbody tr th:only-of-type {\n",
       "        vertical-align: middle;\n",
       "    }\n",
       "\n",
       "    .dataframe tbody tr th {\n",
       "        vertical-align: top;\n",
       "    }\n",
       "\n",
       "    .dataframe thead th {\n",
       "        text-align: right;\n",
       "    }\n",
       "</style>\n",
       "<table border=\"1\" class=\"dataframe\">\n",
       "  <thead>\n",
       "    <tr style=\"text-align: right;\">\n",
       "      <th></th>\n",
       "      <th>Id</th>\n",
       "      <th>ProductId</th>\n",
       "      <th>UserId</th>\n",
       "      <th>ProfileName</th>\n",
       "      <th>HelpfulnessNumerator</th>\n",
       "      <th>HelpfulnessDenominator</th>\n",
       "      <th>Score</th>\n",
       "      <th>Time</th>\n",
       "      <th>Summary</th>\n",
       "      <th>Text</th>\n",
       "    </tr>\n",
       "  </thead>\n",
       "  <tbody>\n",
       "    <tr>\n",
       "      <th>0</th>\n",
       "      <td>1</td>\n",
       "      <td>B001E4KFG0</td>\n",
       "      <td>A3SGXH7AUHU8GW</td>\n",
       "      <td>delmartian</td>\n",
       "      <td>1</td>\n",
       "      <td>1</td>\n",
       "      <td>5</td>\n",
       "      <td>1303862400</td>\n",
       "      <td>Good Quality Dog Food</td>\n",
       "      <td>I have bought several of the Vitality canned d...</td>\n",
       "    </tr>\n",
       "    <tr>\n",
       "      <th>1</th>\n",
       "      <td>2</td>\n",
       "      <td>B00813GRG4</td>\n",
       "      <td>A1D87F6ZCVE5NK</td>\n",
       "      <td>dll pa</td>\n",
       "      <td>0</td>\n",
       "      <td>0</td>\n",
       "      <td>1</td>\n",
       "      <td>1346976000</td>\n",
       "      <td>Not as Advertised</td>\n",
       "      <td>Product arrived labeled as Jumbo Salted Peanut...</td>\n",
       "    </tr>\n",
       "    <tr>\n",
       "      <th>2</th>\n",
       "      <td>3</td>\n",
       "      <td>B000LQOCH0</td>\n",
       "      <td>ABXLMWJIXXAIN</td>\n",
       "      <td>Natalia Corres \"Natalia Corres\"</td>\n",
       "      <td>1</td>\n",
       "      <td>1</td>\n",
       "      <td>4</td>\n",
       "      <td>1219017600</td>\n",
       "      <td>\"Delight\" says it all</td>\n",
       "      <td>This is a confection that has been around a fe...</td>\n",
       "    </tr>\n",
       "    <tr>\n",
       "      <th>3</th>\n",
       "      <td>4</td>\n",
       "      <td>B000UA0QIQ</td>\n",
       "      <td>A395BORC6FGVXV</td>\n",
       "      <td>Karl</td>\n",
       "      <td>3</td>\n",
       "      <td>3</td>\n",
       "      <td>2</td>\n",
       "      <td>1307923200</td>\n",
       "      <td>Cough Medicine</td>\n",
       "      <td>If you are looking for the secret ingredient i...</td>\n",
       "    </tr>\n",
       "    <tr>\n",
       "      <th>4</th>\n",
       "      <td>5</td>\n",
       "      <td>B006K2ZZ7K</td>\n",
       "      <td>A1UQRSCLF8GW1T</td>\n",
       "      <td>Michael D. Bigham \"M. Wassir\"</td>\n",
       "      <td>0</td>\n",
       "      <td>0</td>\n",
       "      <td>5</td>\n",
       "      <td>1350777600</td>\n",
       "      <td>Great taffy</td>\n",
       "      <td>Great taffy at a great price.  There was a wid...</td>\n",
       "    </tr>\n",
       "  </tbody>\n",
       "</table>\n",
       "</div>"
      ],
      "text/plain": [
       "   Id   ProductId          UserId                      ProfileName  \\\n",
       "0   1  B001E4KFG0  A3SGXH7AUHU8GW                       delmartian   \n",
       "1   2  B00813GRG4  A1D87F6ZCVE5NK                           dll pa   \n",
       "2   3  B000LQOCH0   ABXLMWJIXXAIN  Natalia Corres \"Natalia Corres\"   \n",
       "3   4  B000UA0QIQ  A395BORC6FGVXV                             Karl   \n",
       "4   5  B006K2ZZ7K  A1UQRSCLF8GW1T    Michael D. Bigham \"M. Wassir\"   \n",
       "\n",
       "   HelpfulnessNumerator  HelpfulnessDenominator  Score        Time  \\\n",
       "0                     1                       1      5  1303862400   \n",
       "1                     0                       0      1  1346976000   \n",
       "2                     1                       1      4  1219017600   \n",
       "3                     3                       3      2  1307923200   \n",
       "4                     0                       0      5  1350777600   \n",
       "\n",
       "                 Summary                                               Text  \n",
       "0  Good Quality Dog Food  I have bought several of the Vitality canned d...  \n",
       "1      Not as Advertised  Product arrived labeled as Jumbo Salted Peanut...  \n",
       "2  \"Delight\" says it all  This is a confection that has been around a fe...  \n",
       "3         Cough Medicine  If you are looking for the secret ingredient i...  \n",
       "4            Great taffy  Great taffy at a great price.  There was a wid...  "
      ]
     },
     "execution_count": 70,
     "metadata": {},
     "output_type": "execute_result"
    }
   ],
   "source": [
    "# load the data\n",
    "#filtering only positive and negative reviews i.e. not taking into consideration those reviews with Score=3\n",
    "\n",
    "filtered_data = con_rev[con_rev['Score']!=3]\n",
    "print(filtered_data.shape)\n",
    "filtered_data.head()"
   ]
  },
  {
   "cell_type": "code",
   "execution_count": 71,
   "id": "931c4793",
   "metadata": {},
   "outputs": [],
   "source": [
    "# give reviews with score > 3 a positive rating, and reviews with a score < 3 a negative rating.\n",
    "def partition(x):\n",
    "    if x < 3:\n",
    "        return 0\n",
    "    return 1"
   ]
  },
  {
   "cell_type": "code",
   "execution_count": 72,
   "id": "fe7cc88d",
   "metadata": {},
   "outputs": [
    {
     "name": "stdout",
     "output_type": "stream",
     "text": [
      "Number of data points in our data (525814, 10)\n"
     ]
    },
    {
     "data": {
      "text/html": [
       "<div>\n",
       "<style scoped>\n",
       "    .dataframe tbody tr th:only-of-type {\n",
       "        vertical-align: middle;\n",
       "    }\n",
       "\n",
       "    .dataframe tbody tr th {\n",
       "        vertical-align: top;\n",
       "    }\n",
       "\n",
       "    .dataframe thead th {\n",
       "        text-align: right;\n",
       "    }\n",
       "</style>\n",
       "<table border=\"1\" class=\"dataframe\">\n",
       "  <thead>\n",
       "    <tr style=\"text-align: right;\">\n",
       "      <th></th>\n",
       "      <th>Id</th>\n",
       "      <th>ProductId</th>\n",
       "      <th>UserId</th>\n",
       "      <th>ProfileName</th>\n",
       "      <th>HelpfulnessNumerator</th>\n",
       "      <th>HelpfulnessDenominator</th>\n",
       "      <th>Score</th>\n",
       "      <th>Time</th>\n",
       "      <th>Summary</th>\n",
       "      <th>Text</th>\n",
       "    </tr>\n",
       "  </thead>\n",
       "  <tbody>\n",
       "    <tr>\n",
       "      <th>0</th>\n",
       "      <td>1</td>\n",
       "      <td>B001E4KFG0</td>\n",
       "      <td>A3SGXH7AUHU8GW</td>\n",
       "      <td>delmartian</td>\n",
       "      <td>1</td>\n",
       "      <td>1</td>\n",
       "      <td>1</td>\n",
       "      <td>1303862400</td>\n",
       "      <td>Good Quality Dog Food</td>\n",
       "      <td>I have bought several of the Vitality canned d...</td>\n",
       "    </tr>\n",
       "    <tr>\n",
       "      <th>1</th>\n",
       "      <td>2</td>\n",
       "      <td>B00813GRG4</td>\n",
       "      <td>A1D87F6ZCVE5NK</td>\n",
       "      <td>dll pa</td>\n",
       "      <td>0</td>\n",
       "      <td>0</td>\n",
       "      <td>0</td>\n",
       "      <td>1346976000</td>\n",
       "      <td>Not as Advertised</td>\n",
       "      <td>Product arrived labeled as Jumbo Salted Peanut...</td>\n",
       "    </tr>\n",
       "    <tr>\n",
       "      <th>2</th>\n",
       "      <td>3</td>\n",
       "      <td>B000LQOCH0</td>\n",
       "      <td>ABXLMWJIXXAIN</td>\n",
       "      <td>Natalia Corres \"Natalia Corres\"</td>\n",
       "      <td>1</td>\n",
       "      <td>1</td>\n",
       "      <td>1</td>\n",
       "      <td>1219017600</td>\n",
       "      <td>\"Delight\" says it all</td>\n",
       "      <td>This is a confection that has been around a fe...</td>\n",
       "    </tr>\n",
       "  </tbody>\n",
       "</table>\n",
       "</div>"
      ],
      "text/plain": [
       "   Id   ProductId          UserId                      ProfileName  \\\n",
       "0   1  B001E4KFG0  A3SGXH7AUHU8GW                       delmartian   \n",
       "1   2  B00813GRG4  A1D87F6ZCVE5NK                           dll pa   \n",
       "2   3  B000LQOCH0   ABXLMWJIXXAIN  Natalia Corres \"Natalia Corres\"   \n",
       "\n",
       "   HelpfulnessNumerator  HelpfulnessDenominator  Score        Time  \\\n",
       "0                     1                       1      1  1303862400   \n",
       "1                     0                       0      0  1346976000   \n",
       "2                     1                       1      1  1219017600   \n",
       "\n",
       "                 Summary                                               Text  \n",
       "0  Good Quality Dog Food  I have bought several of the Vitality canned d...  \n",
       "1      Not as Advertised  Product arrived labeled as Jumbo Salted Peanut...  \n",
       "2  \"Delight\" says it all  This is a confection that has been around a fe...  "
      ]
     },
     "execution_count": 72,
     "metadata": {},
     "output_type": "execute_result"
    }
   ],
   "source": [
    "# changing reviews with score less than 3 to be positive and vice-versa\n",
    "actualScore = filtered_data['Score']\n",
    "positiveNegative = actualScore.map(partition)\n",
    "filtered_data['Score'] = positiveNegative\n",
    "print(\"Number of data points in our data\", filtered_data.shape)\n",
    "filtered_data.head(3)"
   ]
  },
  {
   "cell_type": "code",
   "execution_count": 73,
   "id": "e490ff80",
   "metadata": {},
   "outputs": [
    {
     "name": "stdout",
     "output_type": "stream",
     "text": [
      "(364173, 10)\n"
     ]
    },
    {
     "data": {
      "text/html": [
       "<div>\n",
       "<style scoped>\n",
       "    .dataframe tbody tr th:only-of-type {\n",
       "        vertical-align: middle;\n",
       "    }\n",
       "\n",
       "    .dataframe tbody tr th {\n",
       "        vertical-align: top;\n",
       "    }\n",
       "\n",
       "    .dataframe thead th {\n",
       "        text-align: right;\n",
       "    }\n",
       "</style>\n",
       "<table border=\"1\" class=\"dataframe\">\n",
       "  <thead>\n",
       "    <tr style=\"text-align: right;\">\n",
       "      <th></th>\n",
       "      <th>Id</th>\n",
       "      <th>ProductId</th>\n",
       "      <th>UserId</th>\n",
       "      <th>ProfileName</th>\n",
       "      <th>HelpfulnessNumerator</th>\n",
       "      <th>HelpfulnessDenominator</th>\n",
       "      <th>Score</th>\n",
       "      <th>Time</th>\n",
       "      <th>Summary</th>\n",
       "      <th>Text</th>\n",
       "    </tr>\n",
       "  </thead>\n",
       "  <tbody>\n",
       "    <tr>\n",
       "      <th>0</th>\n",
       "      <td>1</td>\n",
       "      <td>B001E4KFG0</td>\n",
       "      <td>A3SGXH7AUHU8GW</td>\n",
       "      <td>delmartian</td>\n",
       "      <td>1</td>\n",
       "      <td>1</td>\n",
       "      <td>1</td>\n",
       "      <td>1303862400</td>\n",
       "      <td>Good Quality Dog Food</td>\n",
       "      <td>I have bought several of the Vitality canned d...</td>\n",
       "    </tr>\n",
       "    <tr>\n",
       "      <th>1</th>\n",
       "      <td>2</td>\n",
       "      <td>B00813GRG4</td>\n",
       "      <td>A1D87F6ZCVE5NK</td>\n",
       "      <td>dll pa</td>\n",
       "      <td>0</td>\n",
       "      <td>0</td>\n",
       "      <td>0</td>\n",
       "      <td>1346976000</td>\n",
       "      <td>Not as Advertised</td>\n",
       "      <td>Product arrived labeled as Jumbo Salted Peanut...</td>\n",
       "    </tr>\n",
       "    <tr>\n",
       "      <th>2</th>\n",
       "      <td>3</td>\n",
       "      <td>B000LQOCH0</td>\n",
       "      <td>ABXLMWJIXXAIN</td>\n",
       "      <td>Natalia Corres \"Natalia Corres\"</td>\n",
       "      <td>1</td>\n",
       "      <td>1</td>\n",
       "      <td>1</td>\n",
       "      <td>1219017600</td>\n",
       "      <td>\"Delight\" says it all</td>\n",
       "      <td>This is a confection that has been around a fe...</td>\n",
       "    </tr>\n",
       "  </tbody>\n",
       "</table>\n",
       "</div>"
      ],
      "text/plain": [
       "   Id   ProductId          UserId                      ProfileName  \\\n",
       "0   1  B001E4KFG0  A3SGXH7AUHU8GW                       delmartian   \n",
       "1   2  B00813GRG4  A1D87F6ZCVE5NK                           dll pa   \n",
       "2   3  B000LQOCH0   ABXLMWJIXXAIN  Natalia Corres \"Natalia Corres\"   \n",
       "\n",
       "   HelpfulnessNumerator  HelpfulnessDenominator  Score        Time  \\\n",
       "0                     1                       1      1  1303862400   \n",
       "1                     0                       0      0  1346976000   \n",
       "2                     1                       1      1  1219017600   \n",
       "\n",
       "                 Summary                                               Text  \n",
       "0  Good Quality Dog Food  I have bought several of the Vitality canned d...  \n",
       "1      Not as Advertised  Product arrived labeled as Jumbo Salted Peanut...  \n",
       "2  \"Delight\" says it all  This is a confection that has been around a fe...  "
      ]
     },
     "execution_count": 73,
     "metadata": {},
     "output_type": "execute_result"
    }
   ],
   "source": [
    "#Exploratory Data Analysis\n",
    "#Data Cleaning: Deduplication\n",
    "subset = {\"UserId\",\"ProfileName\",\"Time\",\"Text\"}\n",
    "data = filtered_data.drop_duplicates(subset=subset, keep=\"first\")\n",
    "print(data.shape)\n",
    "data.head(3)"
   ]
  },
  {
   "cell_type": "code",
   "execution_count": 74,
   "id": "42d17e17",
   "metadata": {},
   "outputs": [
    {
     "data": {
      "text/plain": [
       "69.25890143662969"
      ]
     },
     "execution_count": 74,
     "metadata": {},
     "output_type": "execute_result"
    }
   ],
   "source": [
    "# checking to see how much % of data still remains\n",
    "(data['Id'].size)/(filtered_data['Id'].size)*100"
   ]
  },
  {
   "cell_type": "code",
   "execution_count": 75,
   "id": "c07423bd",
   "metadata": {},
   "outputs": [
    {
     "data": {
      "text/html": [
       "<div>\n",
       "<style scoped>\n",
       "    .dataframe tbody tr th:only-of-type {\n",
       "        vertical-align: middle;\n",
       "    }\n",
       "\n",
       "    .dataframe tbody tr th {\n",
       "        vertical-align: top;\n",
       "    }\n",
       "\n",
       "    .dataframe thead th {\n",
       "        text-align: right;\n",
       "    }\n",
       "</style>\n",
       "<table border=\"1\" class=\"dataframe\">\n",
       "  <thead>\n",
       "    <tr style=\"text-align: right;\">\n",
       "      <th></th>\n",
       "      <th>Id</th>\n",
       "      <th>ProductId</th>\n",
       "      <th>UserId</th>\n",
       "      <th>ProfileName</th>\n",
       "      <th>HelpfulnessNumerator</th>\n",
       "      <th>HelpfulnessDenominator</th>\n",
       "      <th>Score</th>\n",
       "      <th>Time</th>\n",
       "      <th>Summary</th>\n",
       "      <th>Text</th>\n",
       "    </tr>\n",
       "  </thead>\n",
       "  <tbody>\n",
       "    <tr>\n",
       "      <th>44736</th>\n",
       "      <td>44737</td>\n",
       "      <td>B001EQ55RW</td>\n",
       "      <td>A2V0I904FH7ABY</td>\n",
       "      <td>Ram</td>\n",
       "      <td>3</td>\n",
       "      <td>2</td>\n",
       "      <td>1</td>\n",
       "      <td>1212883200</td>\n",
       "      <td>Pure cocoa taste with crunchy almonds inside</td>\n",
       "      <td>It was almost a 'love at first bite' - the per...</td>\n",
       "    </tr>\n",
       "    <tr>\n",
       "      <th>64421</th>\n",
       "      <td>64422</td>\n",
       "      <td>B000MIDROQ</td>\n",
       "      <td>A161DK06JJMCYF</td>\n",
       "      <td>J. E. Stephens \"Jeanne\"</td>\n",
       "      <td>3</td>\n",
       "      <td>1</td>\n",
       "      <td>1</td>\n",
       "      <td>1224892800</td>\n",
       "      <td>Bought This for My Son at College</td>\n",
       "      <td>My son loves spaghetti so I didn't hesitate or...</td>\n",
       "    </tr>\n",
       "  </tbody>\n",
       "</table>\n",
       "</div>"
      ],
      "text/plain": [
       "          Id   ProductId          UserId              ProfileName  \\\n",
       "44736  44737  B001EQ55RW  A2V0I904FH7ABY                      Ram   \n",
       "64421  64422  B000MIDROQ  A161DK06JJMCYF  J. E. Stephens \"Jeanne\"   \n",
       "\n",
       "       HelpfulnessNumerator  HelpfulnessDenominator  Score        Time  \\\n",
       "44736                     3                       2      1  1212883200   \n",
       "64421                     3                       1      1  1224892800   \n",
       "\n",
       "                                            Summary  \\\n",
       "44736  Pure cocoa taste with crunchy almonds inside   \n",
       "64421             Bought This for My Son at College   \n",
       "\n",
       "                                                    Text  \n",
       "44736  It was almost a 'love at first bite' - the per...  \n",
       "64421  My son loves spaghetti so I didn't hesitate or...  "
      ]
     },
     "execution_count": 75,
     "metadata": {},
     "output_type": "execute_result"
    }
   ],
   "source": [
    "## HelpfulnessNumerator - number of users who found the review helpful\n",
    "## HelpfulnessDenomiator - number of users who indicated whether they found the reivew helpful or not\n",
    "\n",
    "# Checking IS 'HelpfulnessNumerator' always less than or equal to 'HelpfulnessDenominator' ?\n",
    "\n",
    "data[data['HelpfulnessNumerator'] > data['HelpfulnessDenominator']]"
   ]
  },
  {
   "cell_type": "code",
   "execution_count": 76,
   "id": "982ba9f6",
   "metadata": {},
   "outputs": [
    {
     "name": "stdout",
     "output_type": "stream",
     "text": [
      "(364171, 10)\n"
     ]
    },
    {
     "data": {
      "text/html": [
       "<div>\n",
       "<style scoped>\n",
       "    .dataframe tbody tr th:only-of-type {\n",
       "        vertical-align: middle;\n",
       "    }\n",
       "\n",
       "    .dataframe tbody tr th {\n",
       "        vertical-align: top;\n",
       "    }\n",
       "\n",
       "    .dataframe thead th {\n",
       "        text-align: right;\n",
       "    }\n",
       "</style>\n",
       "<table border=\"1\" class=\"dataframe\">\n",
       "  <thead>\n",
       "    <tr style=\"text-align: right;\">\n",
       "      <th></th>\n",
       "      <th>Id</th>\n",
       "      <th>ProductId</th>\n",
       "      <th>UserId</th>\n",
       "      <th>ProfileName</th>\n",
       "      <th>HelpfulnessNumerator</th>\n",
       "      <th>HelpfulnessDenominator</th>\n",
       "      <th>Score</th>\n",
       "      <th>Time</th>\n",
       "      <th>Summary</th>\n",
       "      <th>Text</th>\n",
       "    </tr>\n",
       "  </thead>\n",
       "  <tbody>\n",
       "    <tr>\n",
       "      <th>0</th>\n",
       "      <td>1</td>\n",
       "      <td>B001E4KFG0</td>\n",
       "      <td>A3SGXH7AUHU8GW</td>\n",
       "      <td>delmartian</td>\n",
       "      <td>1</td>\n",
       "      <td>1</td>\n",
       "      <td>1</td>\n",
       "      <td>1303862400</td>\n",
       "      <td>Good Quality Dog Food</td>\n",
       "      <td>I have bought several of the Vitality canned d...</td>\n",
       "    </tr>\n",
       "    <tr>\n",
       "      <th>1</th>\n",
       "      <td>2</td>\n",
       "      <td>B00813GRG4</td>\n",
       "      <td>A1D87F6ZCVE5NK</td>\n",
       "      <td>dll pa</td>\n",
       "      <td>0</td>\n",
       "      <td>0</td>\n",
       "      <td>0</td>\n",
       "      <td>1346976000</td>\n",
       "      <td>Not as Advertised</td>\n",
       "      <td>Product arrived labeled as Jumbo Salted Peanut...</td>\n",
       "    </tr>\n",
       "    <tr>\n",
       "      <th>2</th>\n",
       "      <td>3</td>\n",
       "      <td>B000LQOCH0</td>\n",
       "      <td>ABXLMWJIXXAIN</td>\n",
       "      <td>Natalia Corres \"Natalia Corres\"</td>\n",
       "      <td>1</td>\n",
       "      <td>1</td>\n",
       "      <td>1</td>\n",
       "      <td>1219017600</td>\n",
       "      <td>\"Delight\" says it all</td>\n",
       "      <td>This is a confection that has been around a fe...</td>\n",
       "    </tr>\n",
       "  </tbody>\n",
       "</table>\n",
       "</div>"
      ],
      "text/plain": [
       "   Id   ProductId          UserId                      ProfileName  \\\n",
       "0   1  B001E4KFG0  A3SGXH7AUHU8GW                       delmartian   \n",
       "1   2  B00813GRG4  A1D87F6ZCVE5NK                           dll pa   \n",
       "2   3  B000LQOCH0   ABXLMWJIXXAIN  Natalia Corres \"Natalia Corres\"   \n",
       "\n",
       "   HelpfulnessNumerator  HelpfulnessDenominator  Score        Time  \\\n",
       "0                     1                       1      1  1303862400   \n",
       "1                     0                       0      0  1346976000   \n",
       "2                     1                       1      1  1219017600   \n",
       "\n",
       "                 Summary                                               Text  \n",
       "0  Good Quality Dog Food  I have bought several of the Vitality canned d...  \n",
       "1      Not as Advertised  Product arrived labeled as Jumbo Salted Peanut...  \n",
       "2  \"Delight\" says it all  This is a confection that has been around a fe...  "
      ]
     },
     "execution_count": 76,
     "metadata": {},
     "output_type": "execute_result"
    }
   ],
   "source": [
    "# HelpfulnessNumerator can't be greater than HelpfulnessDenomiator\n",
    "# so taking dataframe in which \"helpfulnessNumerator\" less than or equal to \"helpfulnessDenominator\"\n",
    "\n",
    "data = data[data['HelpfulnessNumerator'] <= data['HelpfulnessDenominator']]\n",
    "data.reset_index(drop = True, inplace = True)\n",
    "print(data.shape)\n",
    "data.head(3)"
   ]
  },
  {
   "cell_type": "code",
   "execution_count": 77,
   "id": "2523e38f",
   "metadata": {},
   "outputs": [
    {
     "data": {
      "text/plain": [
       "Id                         0\n",
       "ProductId                  0\n",
       "UserId                     0\n",
       "ProfileName               11\n",
       "HelpfulnessNumerator       0\n",
       "HelpfulnessDenominator     0\n",
       "Score                      0\n",
       "Time                       0\n",
       "Summary                    1\n",
       "Text                       0\n",
       "dtype: int64"
      ]
     },
     "execution_count": 77,
     "metadata": {},
     "output_type": "execute_result"
    }
   ],
   "source": [
    "# identifying missing values\n",
    "miss_val = data.isna().sum()\n",
    "miss_val"
   ]
  },
  {
   "cell_type": "code",
   "execution_count": 78,
   "id": "cbd9d817",
   "metadata": {},
   "outputs": [
    {
     "name": "stdout",
     "output_type": "stream",
     "text": [
      "1    307061\n",
      "0     57110\n",
      "Name: Score, dtype: int64\n",
      "**************************************************\n"
     ]
    },
    {
     "data": {
      "text/plain": [
       "Text(0.5, 1.0, 'Score Distribution')"
      ]
     },
     "execution_count": 78,
     "metadata": {},
     "output_type": "execute_result"
    },
    {
     "data": {
      "image/png": "[encoded data removed]",
      "text/plain": [
       "<Figure size 432x288 with 1 Axes>"
      ]
     },
     "metadata": {},
     "output_type": "display_data"
    }
   ],
   "source": [
    "# data points for each class\n",
    "print(data['Score'].value_counts())\n",
    "print(\"*\"*50)\n",
    "\n",
    "# count plot for score\n",
    "sns.countplot('Score', data = data)\n",
    "plt.title(\"Score Distribution\")"
   ]
  },
  {
   "cell_type": "code",
   "execution_count": 95,
   "id": "fd278375",
   "metadata": {},
   "outputs": [],
   "source": [
    "# Text Preprocessing: Stemming, Stop-word removal and Lemmatization\n",
    "#set of stopwords\n",
    "import re\n",
    "import nltk\n",
    "from nltk.corpus import stopwords\n",
    "stop = set(stopwords.words('english'))\n",
    "\n",
    "#initialising the snowball stemmer\n",
    "sno = nltk.stem.SnowballStemmer('english')                      \n",
    "\n",
    "\n",
    "#function to clean the word of any html-tags\n",
    "def cleanhtml(sentence): \n",
    "    cleanr = re.compile('<.*?>')\n",
    "    cleantext = re.sub(cleanr, ' ', sentence)\n",
    "    return cleantext\n",
    "\n",
    "\n",
    "\n",
    "#function to clean the word of any punctuation or special characters\n",
    "def cleanpunc(sentence): \n",
    "    cleaned = re.sub(r'[?|!|\\'|\"|#]',r'',sentence)\n",
    "    cleaned = re.sub(r'[.|,|)|(|\\|/]',r' ',cleaned)\n",
    "    return  cleaned\n",
    "\n",
    "\n",
    "#function to text summarization\n",
    "def final_sentence(text):\n",
    "    \n",
    "    text = text.split()\n",
    "    text = [cleanhtml(x) for x in text]\n",
    "    text = [cleanpunc(x) for x in text]\n",
    "    \n",
    "    def test(word):\n",
    "        if word.isalpha() and len(word) > 2 and word.lower() not in stop:\n",
    "            return True\n",
    "        else:\n",
    "            return False\n",
    "    \n",
    "    text = [x for x in text if test(x)]\n",
    "    \n",
    "    return ' '.join(text)"
   ]
  },
  {
   "cell_type": "code",
   "execution_count": 96,
   "id": "0857e7c3",
   "metadata": {},
   "outputs": [
    {
     "name": "stdout",
     "output_type": "stream",
     "text": [
      "(364171, 11)\n"
     ]
    },
    {
     "data": {
      "text/html": [
       "<div>\n",
       "<style scoped>\n",
       "    .dataframe tbody tr th:only-of-type {\n",
       "        vertical-align: middle;\n",
       "    }\n",
       "\n",
       "    .dataframe tbody tr th {\n",
       "        vertical-align: top;\n",
       "    }\n",
       "\n",
       "    .dataframe thead th {\n",
       "        text-align: right;\n",
       "    }\n",
       "</style>\n",
       "<table border=\"1\" class=\"dataframe\">\n",
       "  <thead>\n",
       "    <tr style=\"text-align: right;\">\n",
       "      <th></th>\n",
       "      <th>Id</th>\n",
       "      <th>ProductId</th>\n",
       "      <th>UserId</th>\n",
       "      <th>ProfileName</th>\n",
       "      <th>HelpfulnessNumerator</th>\n",
       "      <th>HelpfulnessDenominator</th>\n",
       "      <th>Score</th>\n",
       "      <th>Time</th>\n",
       "      <th>Summary</th>\n",
       "      <th>Text</th>\n",
       "      <th>CleanedText</th>\n",
       "    </tr>\n",
       "  </thead>\n",
       "  <tbody>\n",
       "    <tr>\n",
       "      <th>0</th>\n",
       "      <td>1</td>\n",
       "      <td>B001E4KFG0</td>\n",
       "      <td>A3SGXH7AUHU8GW</td>\n",
       "      <td>delmartian</td>\n",
       "      <td>1</td>\n",
       "      <td>1</td>\n",
       "      <td>1</td>\n",
       "      <td>1303862400</td>\n",
       "      <td>Good Quality Dog Food</td>\n",
       "      <td>I have bought several of the Vitality canned d...</td>\n",
       "      <td>bought several Vitality canned dog food produc...</td>\n",
       "    </tr>\n",
       "    <tr>\n",
       "      <th>1</th>\n",
       "      <td>2</td>\n",
       "      <td>B00813GRG4</td>\n",
       "      <td>A1D87F6ZCVE5NK</td>\n",
       "      <td>dll pa</td>\n",
       "      <td>0</td>\n",
       "      <td>0</td>\n",
       "      <td>0</td>\n",
       "      <td>1346976000</td>\n",
       "      <td>Not as Advertised</td>\n",
       "      <td>Product arrived labeled as Jumbo Salted Peanut...</td>\n",
       "      <td>Product arrived labeled Jumbo Salted peanuts a...</td>\n",
       "    </tr>\n",
       "    <tr>\n",
       "      <th>2</th>\n",
       "      <td>3</td>\n",
       "      <td>B000LQOCH0</td>\n",
       "      <td>ABXLMWJIXXAIN</td>\n",
       "      <td>Natalia Corres \"Natalia Corres\"</td>\n",
       "      <td>1</td>\n",
       "      <td>1</td>\n",
       "      <td>1</td>\n",
       "      <td>1219017600</td>\n",
       "      <td>\"Delight\" says it all</td>\n",
       "      <td>This is a confection that has been around a fe...</td>\n",
       "      <td>confection around pillowy citrus gelatin nuts ...</td>\n",
       "    </tr>\n",
       "    <tr>\n",
       "      <th>3</th>\n",
       "      <td>4</td>\n",
       "      <td>B000UA0QIQ</td>\n",
       "      <td>A395BORC6FGVXV</td>\n",
       "      <td>Karl</td>\n",
       "      <td>3</td>\n",
       "      <td>3</td>\n",
       "      <td>0</td>\n",
       "      <td>1307923200</td>\n",
       "      <td>Cough Medicine</td>\n",
       "      <td>If you are looking for the secret ingredient i...</td>\n",
       "      <td>looking secret ingredient Robitussin believe f...</td>\n",
       "    </tr>\n",
       "    <tr>\n",
       "      <th>4</th>\n",
       "      <td>5</td>\n",
       "      <td>B006K2ZZ7K</td>\n",
       "      <td>A1UQRSCLF8GW1T</td>\n",
       "      <td>Michael D. Bigham \"M. Wassir\"</td>\n",
       "      <td>0</td>\n",
       "      <td>0</td>\n",
       "      <td>1</td>\n",
       "      <td>1350777600</td>\n",
       "      <td>Great taffy</td>\n",
       "      <td>Great taffy at a great price.  There was a wid...</td>\n",
       "      <td>Great taffy great wide assortment yummy Delive...</td>\n",
       "    </tr>\n",
       "  </tbody>\n",
       "</table>\n",
       "</div>"
      ],
      "text/plain": [
       "   Id   ProductId          UserId                      ProfileName  \\\n",
       "0   1  B001E4KFG0  A3SGXH7AUHU8GW                       delmartian   \n",
       "1   2  B00813GRG4  A1D87F6ZCVE5NK                           dll pa   \n",
       "2   3  B000LQOCH0   ABXLMWJIXXAIN  Natalia Corres \"Natalia Corres\"   \n",
       "3   4  B000UA0QIQ  A395BORC6FGVXV                             Karl   \n",
       "4   5  B006K2ZZ7K  A1UQRSCLF8GW1T    Michael D. Bigham \"M. Wassir\"   \n",
       "\n",
       "   HelpfulnessNumerator  HelpfulnessDenominator  Score        Time  \\\n",
       "0                     1                       1      1  1303862400   \n",
       "1                     0                       0      0  1346976000   \n",
       "2                     1                       1      1  1219017600   \n",
       "3                     3                       3      0  1307923200   \n",
       "4                     0                       0      1  1350777600   \n",
       "\n",
       "                 Summary                                               Text  \\\n",
       "0  Good Quality Dog Food  I have bought several of the Vitality canned d...   \n",
       "1      Not as Advertised  Product arrived labeled as Jumbo Salted Peanut...   \n",
       "2  \"Delight\" says it all  This is a confection that has been around a fe...   \n",
       "3         Cough Medicine  If you are looking for the secret ingredient i...   \n",
       "4            Great taffy  Great taffy at a great price.  There was a wid...   \n",
       "\n",
       "                                         CleanedText  \n",
       "0  bought several Vitality canned dog food produc...  \n",
       "1  Product arrived labeled Jumbo Salted peanuts a...  \n",
       "2  confection around pillowy citrus gelatin nuts ...  \n",
       "3  looking secret ingredient Robitussin believe f...  \n",
       "4  Great taffy great wide assortment yummy Delive...  "
      ]
     },
     "execution_count": 96,
     "metadata": {},
     "output_type": "execute_result"
    }
   ],
   "source": [
    "data['CleanedText'] = data['Text'].apply(final_sentence)\n",
    "print(data.shape)\n",
    "data.head()"
   ]
  },
  {
   "cell_type": "code",
   "execution_count": 81,
   "id": "dda79d44",
   "metadata": {},
   "outputs": [],
   "source": [
    "##converting text data into vector\n",
    "def Text_Into_Vector(model,data):\n",
    "    model_vect = model(ngram_range=(1,2)) # in scikit-learn\n",
    "    final_array = model_vect.fit_transform(data.values)\n",
    "    \n",
    "    print(\"The type of count vectorizer\", type(final_array))\n",
    "    print(\"The shape of out text BOW vectorizer\", final_array.get_shape())\n",
    "    print(\"The number of unique words including both unigrams and bigrams\", final_array.get_shape()[1])\n",
    "    \n",
    "    return model_vect, final_array"
   ]
  },
  {
   "cell_type": "code",
   "execution_count": 109,
   "id": "431015a1",
   "metadata": {},
   "outputs": [],
   "source": [
    "# splitting the data\n",
    "# split the data into train, cross validate and test\n",
    "from sklearn.model_selection import train_test_split\n",
    "\n",
    "def Split_data(x_vec, y_vec):\n",
    "    X_train, X_test, Y_train, Y_test = train_test_split(x_vec, y_vec, test_size=.33, random_state=0)\n",
    "    X_tr, X_cv, Y_tr, Y_cv = train_test_split(X_train, Y_train, test_size=.33, random_state=0)\n",
    "    return X_tr, X_cv, X_test, Y_tr, Y_test, Y_cv, X_train, Y_train"
   ]
  },
  {
   "cell_type": "code",
   "execution_count": 105,
   "id": "67a7fdce",
   "metadata": {},
   "outputs": [],
   "source": [
    "# Normalize data\n",
    "from sklearn import preprocessing\n",
    "from sklearn.preprocessing import Normalizer\n",
    "\n",
    "def Normalization(train, cv, test):\n",
    "    train = preprocessing.normalize(train)\n",
    "    cv = preprocessing.normalize(cv)\n",
    "    test = preprocessing.normalize(test)\n",
    "    \n",
    "    print(\"Train Data Size:\", train.get_shape())\n",
    "    print(\"CV Data Size:\", cv.shape)\n",
    "    print(\"Test Data Size:\", test.shape)\n",
    "    \n",
    "    return train, cv, test"
   ]
  },
  {
   "cell_type": "code",
   "execution_count": 112,
   "id": "34b1240c",
   "metadata": {},
   "outputs": [],
   "source": [
    "## Training multinomial Naive Bayes Model\n",
    "\n",
    "from sklearn.naive_bayes import MultinomialNB\n",
    "from sklearn.metrics import roc_auc_score\n",
    "from sklearn.metrics import roc_curve\n",
    "import matplotlib.pylab as pyplt\n",
    "\n",
    "def Multinomial_NB(X_train,X_cv,Y_train,Y_cv):\n",
    "    #############################################################################\n",
    "    best_alpha=0\n",
    "    max_roc_auc=-1\n",
    "    pred_cv = []\n",
    "    pred_train = []\n",
    "    alpha=[10000,5000,1000,500,100,50,10,5,1,0.5,0.1,0.05,0.01,0.005,0.001,0.0005,0.0001,0.00005,0.00001]\n",
    "    #############################################################################\n",
    "\n",
    "    for i in alpha:\n",
    "        mulbnb = MultinomialNB(alpha=i)\n",
    "        mulbnb.fit(X_train,Y_train)\n",
    "        probs = mulbnb.predict_proba(X_cv)[:,1]     \n",
    "        prob = mulbnb.predict_proba(X_train)[:,1]\n",
    "        #############################################################################\n",
    "\n",
    "        auc_score_cv = roc_auc_score(Y_cv,probs)            #auc roc for cv\n",
    "        auc_score_train = roc_auc_score(Y_train,prob)       #auc roc for train\n",
    "        #############################################################################\n",
    "\n",
    "        print(i,\" ------> \",auc_score_cv)\n",
    "        #############################################################################\n",
    "\n",
    "        pred_cv.append(auc_score_cv)\n",
    "        pred_train.append(auc_score_train)\n",
    "        #############################################################################\n",
    "\n",
    "        if(max_roc_auc<auc_score_cv):\n",
    "            max_roc_auc=auc_score_cv\n",
    "            best_alpha=i\n",
    "\n",
    "    print(\"*\"*100)\n",
    "    print(f\"\\n Best alpha Value {best_alpha} with highest roc_auc Score is {max_roc_auc}\")\n",
    "    print(\"*\"*100)\n",
    "    #############################################################################\n",
    "\n",
    "    sns.set_style(\"darkgrid\")\n",
    "    plt.xscale('log')\n",
    "    plt.plot(alpha, pred_cv,'r-', label = 'CV Data')\n",
    "    plt.plot(alpha,pred_train,'g-', label ='Train Data')\n",
    "    plt.legend(loc='upper right')\n",
    "    plt.title(r'Auc Score v/s $\\alpha$')\n",
    "    plt.xlabel(r\"alpha values\",fontsize=12)\n",
    "    plt.ylabel(\"roc_auc\",fontsize=12)\n",
    "    plt.show()\n",
    "    print(\"*\"*100)\n",
    "    #############################################################################\n",
    "\n",
    "    # calculate roc curve\n",
    "    fpr, tpr, thresholds = roc_curve(Y_cv,probs)\n",
    "    # plot no skill\n",
    "    pyplt.plot([0, 1], [0, 1], linestyle='--')\n",
    "    # plot the roc curve for the model\n",
    "    pyplt.plot(fpr, tpr, marker='.')\n",
    "    pyplt.title(\"Line Plot of ROC Curve on Train Data\")\n",
    "    pyplt.ylabel('True Positive Rate')\n",
    "    pyplt.xlabel('False Positive Rate')\n",
    "    pyplt.show()\n",
    "    print(\"*\"*100)\n",
    "    \n",
    "    #############################################################################\n",
    "    return best_alpha"
   ]
  },
  {
   "cell_type": "code",
   "execution_count": 85,
   "id": "7f141db8",
   "metadata": {},
   "outputs": [
    {
     "name": "stdout",
     "output_type": "stream",
     "text": [
      "Requirement already satisfied: scikit-plot in /Users/jasonkim/opt/anaconda3/lib/python3.9/site-packages (0.3.7)\n",
      "Requirement already satisfied: scikit-learn>=0.18 in /Users/jasonkim/opt/anaconda3/lib/python3.9/site-packages (from scikit-plot) (0.24.2)\n",
      "Requirement already satisfied: joblib>=0.10 in /Users/jasonkim/opt/anaconda3/lib/python3.9/site-packages (from scikit-plot) (1.1.0)\n",
      "Requirement already satisfied: scipy>=0.9 in /Users/jasonkim/opt/anaconda3/lib/python3.9/site-packages (from scikit-plot) (1.7.1)\n",
      "Requirement already satisfied: matplotlib>=1.4.0 in /Users/jasonkim/opt/anaconda3/lib/python3.9/site-packages (from scikit-plot) (3.4.3)\n",
      "Requirement already satisfied: cycler>=0.10 in /Users/jasonkim/opt/anaconda3/lib/python3.9/site-packages (from matplotlib>=1.4.0->scikit-plot) (0.10.0)\n",
      "Requirement already satisfied: python-dateutil>=2.7 in /Users/jasonkim/opt/anaconda3/lib/python3.9/site-packages (from matplotlib>=1.4.0->scikit-plot) (2.8.2)\n",
      "Requirement already satisfied: numpy>=1.16 in /Users/jasonkim/opt/anaconda3/lib/python3.9/site-packages (from matplotlib>=1.4.0->scikit-plot) (1.20.3)\n",
      "Requirement already satisfied: kiwisolver>=1.0.1 in /Users/jasonkim/opt/anaconda3/lib/python3.9/site-packages (from matplotlib>=1.4.0->scikit-plot) (1.3.1)\n",
      "Requirement already satisfied: pillow>=6.2.0 in /Users/jasonkim/opt/anaconda3/lib/python3.9/site-packages (from matplotlib>=1.4.0->scikit-plot) (8.4.0)\n",
      "Requirement already satisfied: pyparsing>=2.2.1 in /Users/jasonkim/opt/anaconda3/lib/python3.9/site-packages (from matplotlib>=1.4.0->scikit-plot) (3.0.4)\n",
      "Requirement already satisfied: six in /Users/jasonkim/opt/anaconda3/lib/python3.9/site-packages (from cycler>=0.10->matplotlib>=1.4.0->scikit-plot) (1.16.0)\n",
      "Requirement already satisfied: threadpoolctl>=2.0.0 in /Users/jasonkim/opt/anaconda3/lib/python3.9/site-packages (from scikit-learn>=0.18->scikit-plot) (2.2.0)\n",
      "Note: you may need to restart the kernel to use updated packages.\n"
     ]
    }
   ],
   "source": [
    "pip install scikit-plot"
   ]
  },
  {
   "cell_type": "code",
   "execution_count": 123,
   "id": "4725841f",
   "metadata": {},
   "outputs": [],
   "source": [
    "## Testing Multinomial Naive Bayes Model\n",
    "import scikitplot.metrics as skplt\n",
    "from sklearn import metrics\n",
    "from sklearn.metrics import confusion_matrix\n",
    "\n",
    "\n",
    "def Testing_model(X_train,Y_train,X_test,Y_test,best_alpha):\n",
    "    \n",
    "    #############################################################################\n",
    "    bnb = MultinomialNB(alpha = best_alpha, fit_prior=True, class_prior=None)\n",
    "    bnb.fit(X_train,Y_train)\n",
    "    probs = bnb.predict_proba(X_test)[:,1]            # keep probabilities for the positive outcome only\n",
    "\n",
    "    #############################################################################\n",
    "    roc_auc = roc_auc_score(Y_test,probs)\n",
    "    print(\"AUC Score\",roc_auc)\n",
    "    print(\"*\"*70)\n",
    "    #############################################################################'\n",
    "\n",
    "    # calculate roc curve\n",
    "    fpr, tpr, thresholds = roc_curve(Y_test,probs)\n",
    "    # plot no skill\n",
    "    plt.plot([0, 1], [0, 1], linestyle='--')\n",
    "    # plot the roc curve for the model\n",
    "    plt.plot(fpr, tpr, marker='.')\n",
    "    plt.title(\"Line Plot of ROC Curve on Test Data\")\n",
    "    plt.ylabel('True Positive Rate')\n",
    "    plt.xlabel('False Positive Rate')    \n",
    "    plt.show()\n",
    "\n",
    "    #############################################################################\n",
    "    prediction=bnb.predict(X_test)\n",
    "    skplt.plot_confusion_matrix(Y_test,prediction)\n",
    "    #############################################################################\n",
    "\n",
    "    print(\"macro f1 score for data :\",metrics.f1_score(Y_test, prediction, average = 'macro'))\n",
    "    print(\"micro f1 score for data:\",metrics.f1_score(Y_test, prediction, average = 'micro'))\n",
    "    print(\"hamming loss for data:\",metrics.hamming_loss(Y_test,prediction))\n",
    "    print(\"*\"*70)\n",
    "    print(\"Precision recall report for data:\\n\",metrics.classification_report(Y_test, prediction))\n",
    "    print(\"*\"*70)\n",
    "    \n",
    "    return bnb,roc_auc\n",
    "\n",
    "    #############################################################################"
   ]
  },
  {
   "cell_type": "code",
   "execution_count": 87,
   "id": "894c9ce3",
   "metadata": {},
   "outputs": [],
   "source": [
    "## TOP Features\n",
    "def Important_features(model, classifier):\n",
    "    neg = classifier.feature_log_prob_[0].argsort()\n",
    "    pos = classifier.feature_log_prob_[1].argsort()\n",
    "    top_pos_words = np.take(model.get_feature_names(),pos)\n",
    "    top_neg_words = np.take(model.get_feature_names(),neg)\n",
    "    imp_df = pd.DataFrame(columns = ['Pos_Words','Pos_Importance','Neg_Words','Neg_Importance'])\n",
    "    imp_df['Pos_Words'] = top_pos_words[::-1]\n",
    "    imp_df['Pos_Importance'] = np.take(classifier.feature_log_prob_[1],pos)[::-1]\n",
    "    imp_df['Neg_Words'] = top_neg_words[::-1]\n",
    "    imp_df['Neg_Importance'] = np.take(classifier.feature_log_prob_[0],neg)[::-1]\n",
    "    return imp_df"
   ]
  },
  {
   "cell_type": "code",
   "execution_count": 88,
   "id": "89d932a2",
   "metadata": {},
   "outputs": [],
   "source": [
    "# Individual Prediction\n",
    "def Individual_Prediction(model, classifier, review):\n",
    "    review = final_sentence(review)\n",
    "    review_vec = model.transform([review])\n",
    "    review_vec = preprocessing.normalize(review_vec)\n",
    "    pred = classifier.predict(review_vec)\n",
    "    \n",
    "    return \"positive review\" if pred[0] ==1 else \"negative review\""
   ]
  },
  {
   "cell_type": "code",
   "execution_count": 97,
   "id": "c749e6e9",
   "metadata": {},
   "outputs": [
    {
     "name": "stdout",
     "output_type": "stream",
     "text": [
      "The type of count vectorizer <class 'scipy.sparse.csr.csr_matrix'>\n",
      "The shape of out text BOW vectorizer (364171, 3474709)\n",
      "The number of unique words including both unigrams and bigrams 3474709\n"
     ]
    }
   ],
   "source": [
    "# Bag of Words(BOW)\n",
    "\n",
    "from sklearn.feature_extraction.text import CountVectorizer\n",
    "\n",
    "BOW, X = Text_Into_Vector(CountVectorizer,data['CleanedText'])"
   ]
  },
  {
   "cell_type": "code",
   "execution_count": 98,
   "id": "ba06fb9e",
   "metadata": {},
   "outputs": [
    {
     "data": {
      "text/plain": [
       "['aaa',\n",
       " 'aaa aaa',\n",
       " 'aaa able',\n",
       " 'aaa class',\n",
       " 'aaa cola',\n",
       " 'aaa condition',\n",
       " 'aaa dont',\n",
       " 'aaa hockey',\n",
       " 'aaa job',\n",
       " 'aaa magazine',\n",
       " 'aaa plus',\n",
       " 'aaa rating',\n",
       " 'aaa tue',\n",
       " 'aaaa',\n",
       " 'aaaaaaaaagghh',\n",
       " 'aaaaaaarrrrrggghhh',\n",
       " 'aaaaaaarrrrrggghhh dark',\n",
       " 'aaaaaah',\n",
       " 'aaaaaah melt',\n",
       " 'aaaaaahhh']"
      ]
     },
     "execution_count": 98,
     "metadata": {},
     "output_type": "execute_result"
    }
   ],
   "source": [
    "BOW.get_feature_names()[:20]"
   ]
  },
  {
   "cell_type": "code",
   "execution_count": 99,
   "id": "61e28b28",
   "metadata": {},
   "outputs": [
    {
     "data": {
      "text/plain": [
       "{'analyzer': 'word',\n",
       " 'binary': False,\n",
       " 'decode_error': 'strict',\n",
       " 'dtype': numpy.int64,\n",
       " 'encoding': 'utf-8',\n",
       " 'input': 'content',\n",
       " 'lowercase': True,\n",
       " 'max_df': 1.0,\n",
       " 'max_features': None,\n",
       " 'min_df': 1,\n",
       " 'ngram_range': (1, 2),\n",
       " 'preprocessor': None,\n",
       " 'stop_words': None,\n",
       " 'strip_accents': None,\n",
       " 'token_pattern': '(?u)\\\\b\\\\w\\\\w+\\\\b',\n",
       " 'tokenizer': None,\n",
       " 'vocabulary': None}"
      ]
     },
     "execution_count": 99,
     "metadata": {},
     "output_type": "execute_result"
    }
   ],
   "source": [
    "BOW.get_params()"
   ]
  },
  {
   "cell_type": "code",
   "execution_count": 118,
   "id": "b4e3639e",
   "metadata": {},
   "outputs": [],
   "source": [
    "# split the data into train , corss validate and test\n",
    "X_tr, X_cv, X_test, Y_tr,Y_test, Y_cv, X_train, Y_train = Split_data(X, data['Score'])"
   ]
  },
  {
   "cell_type": "code",
   "execution_count": 119,
   "id": "76b5bda9",
   "metadata": {},
   "outputs": [
    {
     "name": "stdout",
     "output_type": "stream",
     "text": [
      "X_test, Y_test (120177, 3474709) (120177,)\n",
      "X_tc, Y_tr (163475, 3474709) (163475,)\n",
      "X_cv, Y_cv (80519, 3474709) (80519,)\n",
      "X_train, Y_train (243994, 3474709) (243994,)\n"
     ]
    }
   ],
   "source": [
    "print(\"X_test, Y_test\", X_test.shape, Y_test.shape)\n",
    "print(\"X_tc, Y_tr\", X_tr.shape, Y_tr.shape)\n",
    "print(\"X_cv, Y_cv\", X_cv.shape, Y_cv.shape)\n",
    "print(\"X_train, Y_train\", X_train.shape, Y_train.shape)"
   ]
  },
  {
   "cell_type": "code",
   "execution_count": 120,
   "id": "16ea10e0",
   "metadata": {},
   "outputs": [
    {
     "name": "stdout",
     "output_type": "stream",
     "text": [
      "Train Data Size: (163475, 3474709)\n",
      "CV Data Size: (80519, 3474709)\n",
      "Test Data Size: (120177, 3474709)\n"
     ]
    }
   ],
   "source": [
    "# Normalization\n",
    "X_tr, X_cv, X_test = Normalization(X_tr, X_cv, X_test)"
   ]
  },
  {
   "cell_type": "code",
   "execution_count": 121,
   "id": "e0625dda",
   "metadata": {},
   "outputs": [
    {
     "name": "stdout",
     "output_type": "stream",
     "text": [
      "10000  ------>  0.6111583167089375\n",
      "5000  ------>  0.6145155649406144\n",
      "1000  ------>  0.628614842053753\n",
      "500  ------>  0.6367734085316683\n",
      "100  ------>  0.6584930541766909\n",
      "50  ------>  0.6693181832677322\n",
      "10  ------>  0.6983596977921045\n",
      "5  ------>  0.7135046880412861\n",
      "1  ------>  0.7660992482025781\n",
      "0.5  ------>  0.8034533701963218\n",
      "0.1  ------>  0.9034667012030657\n",
      "0.05  ------>  0.9189048015587753\n",
      "0.01  ------>  0.9175127312491211\n",
      "0.005  ------>  0.9157508910131609\n",
      "0.001  ------>  0.909563938140043\n",
      "0.0005  ------>  0.9053448403105996\n",
      "0.0001  ------>  0.8931149189924641\n",
      "5e-05  ------>  0.8873560408133327\n",
      "1e-05  ------>  0.8740097044589022\n",
      "****************************************************************************************************\n",
      "\n",
      " Best alpha Value 0.05 with highest roc_auc Score is 0.9189048015587753\n",
      "****************************************************************************************************\n"
     ]
    },
    {
     "data": {
      "image/png": "[encoded data removed]",
      "text/plain": [
       "<Figure size 432x288 with 1 Axes>"
      ]
     },
     "metadata": {},
     "output_type": "display_data"
    },
    {
     "name": "stdout",
     "output_type": "stream",
     "text": [
      "****************************************************************************************************\n"
     ]
    },
    {
     "data": {
      "image/png": "[encoded data removed]",
      "text/plain": [
       "<Figure size 432x288 with 1 Axes>"
      ]
     },
     "metadata": {},
     "output_type": "display_data"
    },
    {
     "name": "stdout",
     "output_type": "stream",
     "text": [
      "****************************************************************************************************\n"
     ]
    }
   ],
   "source": [
    "## Naive Bayes for BOW\n",
    "# training NB\n",
    "\n",
    "best_alpha_bow = Multinomial_NB(X_tr,X_cv,Y_tr,Y_cv)"
   ]
  },
  {
   "cell_type": "code",
   "execution_count": 124,
   "id": "f83e498b",
   "metadata": {},
   "outputs": [
    {
     "name": "stdout",
     "output_type": "stream",
     "text": [
      "AUC Score 0.9209823342029133\n",
      "**********************************************************************\n"
     ]
    },
    {
     "data": {
      "image/png": "[encoded data removed]",
      "text/plain": [
       "<Figure size 432x288 with 1 Axes>"
      ]
     },
     "metadata": {},
     "output_type": "display_data"
    },
    {
     "name": "stdout",
     "output_type": "stream",
     "text": [
      "macro f1 score for data : 0.6467429611555733\n",
      "micro f1 score for data: 0.8739359444818892\n",
      "hamming loss for data: 0.12606405551811078\n",
      "**********************************************************************\n",
      "Precision recall report for data:\n",
      "               precision    recall  f1-score   support\n",
      "\n",
      "           0       0.87      0.23      0.36     18834\n",
      "           1       0.87      0.99      0.93    101343\n",
      "\n",
      "    accuracy                           0.87    120177\n",
      "   macro avg       0.87      0.61      0.65    120177\n",
      "weighted avg       0.87      0.87      0.84    120177\n",
      "\n",
      "**********************************************************************\n"
     ]
    },
    {
     "data": {
      "image/png": "[encoded data removed]",
      "text/plain": [
       "<Figure size 432x288 with 2 Axes>"
      ]
     },
     "metadata": {},
     "output_type": "display_data"
    }
   ],
   "source": [
    "## Testing NB Model\n",
    "NB_bow, roc_auc_bow = Testing_model(X_tr,Y_tr,X_test,Y_test,best_alpha_bow)"
   ]
  },
  {
   "cell_type": "code",
   "execution_count": 125,
   "id": "d0c7c75e",
   "metadata": {},
   "outputs": [
    {
     "data": {
      "text/html": [
       "<div>\n",
       "<style scoped>\n",
       "    .dataframe tbody tr th:only-of-type {\n",
       "        vertical-align: middle;\n",
       "    }\n",
       "\n",
       "    .dataframe tbody tr th {\n",
       "        vertical-align: top;\n",
       "    }\n",
       "\n",
       "    .dataframe thead th {\n",
       "        text-align: right;\n",
       "    }\n",
       "</style>\n",
       "<table border=\"1\" class=\"dataframe\">\n",
       "  <thead>\n",
       "    <tr style=\"text-align: right;\">\n",
       "      <th></th>\n",
       "      <th>Pos_Words</th>\n",
       "      <th>Pos_Importance</th>\n",
       "      <th>Neg_Words</th>\n",
       "      <th>Neg_Importance</th>\n",
       "    </tr>\n",
       "  </thead>\n",
       "  <tbody>\n",
       "    <tr>\n",
       "      <th>0</th>\n",
       "      <td>like</td>\n",
       "      <td>-5.194557</td>\n",
       "      <td>like</td>\n",
       "      <td>-5.485752</td>\n",
       "    </tr>\n",
       "    <tr>\n",
       "      <th>1</th>\n",
       "      <td>great</td>\n",
       "      <td>-5.274154</td>\n",
       "      <td>taste</td>\n",
       "      <td>-5.951648</td>\n",
       "    </tr>\n",
       "    <tr>\n",
       "      <th>2</th>\n",
       "      <td>good</td>\n",
       "      <td>-5.386931</td>\n",
       "      <td>product</td>\n",
       "      <td>-5.981940</td>\n",
       "    </tr>\n",
       "    <tr>\n",
       "      <th>3</th>\n",
       "      <td>love</td>\n",
       "      <td>-5.495140</td>\n",
       "      <td>would</td>\n",
       "      <td>-5.992919</td>\n",
       "    </tr>\n",
       "    <tr>\n",
       "      <th>4</th>\n",
       "      <td>one</td>\n",
       "      <td>-5.646232</td>\n",
       "      <td>one</td>\n",
       "      <td>-6.100033</td>\n",
       "    </tr>\n",
       "    <tr>\n",
       "      <th>...</th>\n",
       "      <td>...</td>\n",
       "      <td>...</td>\n",
       "      <td>...</td>\n",
       "      <td>...</td>\n",
       "    </tr>\n",
       "    <tr>\n",
       "      <th>3474704</th>\n",
       "      <td>home jalapeno</td>\n",
       "      <td>-16.904796</td>\n",
       "      <td>phony chemically</td>\n",
       "      <td>-15.772229</td>\n",
       "    </tr>\n",
       "    <tr>\n",
       "      <th>3474705</th>\n",
       "      <td>home jam</td>\n",
       "      <td>-16.904796</td>\n",
       "      <td>phony cappuccinos</td>\n",
       "      <td>-15.772229</td>\n",
       "    </tr>\n",
       "    <tr>\n",
       "      <th>3474706</th>\n",
       "      <td>together actually</td>\n",
       "      <td>-16.904796</td>\n",
       "      <td>phony butter</td>\n",
       "      <td>-15.772229</td>\n",
       "    </tr>\n",
       "    <tr>\n",
       "      <th>3474707</th>\n",
       "      <td>home jammies</td>\n",
       "      <td>-16.904796</td>\n",
       "      <td>phony baloney</td>\n",
       "      <td>-15.772229</td>\n",
       "    </tr>\n",
       "    <tr>\n",
       "      <th>3474708</th>\n",
       "      <td>flours shaped</td>\n",
       "      <td>-16.904796</td>\n",
       "      <td>aaa</td>\n",
       "      <td>-15.772229</td>\n",
       "    </tr>\n",
       "  </tbody>\n",
       "</table>\n",
       "<p>3474709 rows × 4 columns</p>\n",
       "</div>"
      ],
      "text/plain": [
       "                 Pos_Words  Pos_Importance          Neg_Words  Neg_Importance\n",
       "0                     like       -5.194557               like       -5.485752\n",
       "1                    great       -5.274154              taste       -5.951648\n",
       "2                     good       -5.386931            product       -5.981940\n",
       "3                     love       -5.495140              would       -5.992919\n",
       "4                      one       -5.646232                one       -6.100033\n",
       "...                    ...             ...                ...             ...\n",
       "3474704      home jalapeno      -16.904796   phony chemically      -15.772229\n",
       "3474705           home jam      -16.904796  phony cappuccinos      -15.772229\n",
       "3474706  together actually      -16.904796       phony butter      -15.772229\n",
       "3474707       home jammies      -16.904796      phony baloney      -15.772229\n",
       "3474708      flours shaped      -16.904796                aaa      -15.772229\n",
       "\n",
       "[3474709 rows x 4 columns]"
      ]
     },
     "execution_count": 125,
     "metadata": {},
     "output_type": "execute_result"
    }
   ],
   "source": [
    "# Top features using NB and BOW\n",
    "Important_features(BOW, NB_bow)"
   ]
  },
  {
   "cell_type": "code",
   "execution_count": 126,
   "id": "699e964f",
   "metadata": {},
   "outputs": [
    {
     "name": "stdout",
     "output_type": "stream",
     "text": [
      "The type of count vectorizer <class 'scipy.sparse.csr.csr_matrix'>\n",
      "The shape of out text BOW vectorizer (364171, 3474709)\n",
      "The number of unique words including both unigrams and bigrams 3474709\n"
     ]
    }
   ],
   "source": [
    "## TF-IDF\n",
    "#TFidf Vectorizer\n",
    "from sklearn.feature_extraction.text import TfidfVectorizer\n",
    "TfIdf, X = Text_Into_Vector(TfidfVectorizer, data['CleanedText'])"
   ]
  },
  {
   "cell_type": "code",
   "execution_count": 127,
   "id": "e53afb62",
   "metadata": {},
   "outputs": [
    {
     "data": {
      "text/plain": [
       "['aaa',\n",
       " 'aaa aaa',\n",
       " 'aaa able',\n",
       " 'aaa class',\n",
       " 'aaa cola',\n",
       " 'aaa condition',\n",
       " 'aaa dont',\n",
       " 'aaa hockey',\n",
       " 'aaa job',\n",
       " 'aaa magazine',\n",
       " 'aaa plus',\n",
       " 'aaa rating',\n",
       " 'aaa tue',\n",
       " 'aaaa',\n",
       " 'aaaaaaaaagghh',\n",
       " 'aaaaaaarrrrrggghhh',\n",
       " 'aaaaaaarrrrrggghhh dark',\n",
       " 'aaaaaah',\n",
       " 'aaaaaah melt',\n",
       " 'aaaaaahhh']"
      ]
     },
     "execution_count": 127,
     "metadata": {},
     "output_type": "execute_result"
    }
   ],
   "source": [
    "TfIdf.get_feature_names()[:20]"
   ]
  },
  {
   "cell_type": "code",
   "execution_count": 128,
   "id": "48a0a76c",
   "metadata": {},
   "outputs": [
    {
     "data": {
      "text/plain": [
       "{'analyzer': 'word',\n",
       " 'binary': False,\n",
       " 'decode_error': 'strict',\n",
       " 'dtype': numpy.float64,\n",
       " 'encoding': 'utf-8',\n",
       " 'input': 'content',\n",
       " 'lowercase': True,\n",
       " 'max_df': 1.0,\n",
       " 'max_features': None,\n",
       " 'min_df': 1,\n",
       " 'ngram_range': (1, 2),\n",
       " 'norm': 'l2',\n",
       " 'preprocessor': None,\n",
       " 'smooth_idf': True,\n",
       " 'stop_words': None,\n",
       " 'strip_accents': None,\n",
       " 'sublinear_tf': False,\n",
       " 'token_pattern': '(?u)\\\\b\\\\w\\\\w+\\\\b',\n",
       " 'tokenizer': None,\n",
       " 'use_idf': True,\n",
       " 'vocabulary': None}"
      ]
     },
     "execution_count": 128,
     "metadata": {},
     "output_type": "execute_result"
    }
   ],
   "source": [
    "TfIdf.get_params()"
   ]
  },
  {
   "cell_type": "code",
   "execution_count": 129,
   "id": "e4c67d09",
   "metadata": {},
   "outputs": [],
   "source": [
    "# Split into train, corss validate and test\n",
    "X_tr,X_cv, X_test, Y_tr, Y_test, Y_cv, X_train, Y_train = Split_data(X, data['Score'])"
   ]
  },
  {
   "cell_type": "code",
   "execution_count": 131,
   "id": "66616e91",
   "metadata": {},
   "outputs": [
    {
     "name": "stdout",
     "output_type": "stream",
     "text": [
      "X_test, Y_test (120177, 3474709) (120177,)\n",
      "X_tr, Y_tr (163475, 3474709) (163475,)\n",
      "X_cv, Y_cv (80519, 3474709) (80519,)\n",
      "X_Train, Y_Train (243994, 3474709) (243994,)\n"
     ]
    }
   ],
   "source": [
    "print('X_test, Y_test', X_test.shape, Y_test.shape)\n",
    "print('X_tr, Y_tr', X_tr.shape, Y_tr.shape)\n",
    "print('X_cv, Y_cv', X_cv.shape,Y_cv.shape)\n",
    "print('X_Train, Y_Train', X_train.shape, Y_train.shape)"
   ]
  },
  {
   "cell_type": "code",
   "execution_count": 133,
   "id": "d089ab69",
   "metadata": {},
   "outputs": [
    {
     "name": "stdout",
     "output_type": "stream",
     "text": [
      "Train Data Size: (163475, 3474709)\n",
      "CV Data Size: (80519, 3474709)\n",
      "Test Data Size: (120177, 3474709)\n"
     ]
    }
   ],
   "source": [
    "# NOrmalize Data\n",
    "X_tr,X_cv,X_test = Normalization(X_tr,X_cv,X_test)"
   ]
  },
  {
   "cell_type": "code",
   "execution_count": 134,
   "id": "d12576c8",
   "metadata": {},
   "outputs": [
    {
     "name": "stdout",
     "output_type": "stream",
     "text": [
      "10000  ------>  0.6374523430571146\n",
      "5000  ------>  0.6381727888543773\n",
      "1000  ------>  0.6430910743700347\n",
      "500  ------>  0.6476871462307296\n",
      "100  ------>  0.6668859458766916\n",
      "50  ------>  0.6791041302228038\n",
      "10  ------>  0.7150002552856136\n",
      "5  ------>  0.7337342666031237\n",
      "1  ------>  0.7933609275264643\n",
      "0.5  ------>  0.8298920705520662\n",
      "0.1  ------>  0.8983067251447\n",
      "0.05  ------>  0.9012337852272319\n",
      "0.01  ------>  0.8933885443603953\n",
      "0.005  ------>  0.890919159111641\n",
      "0.001  ------>  0.882478944138137\n",
      "0.0005  ------>  0.8773440941903231\n",
      "0.0001  ------>  0.8638083811921488\n",
      "5e-05  ------>  0.857866377889614\n",
      "1e-05  ------>  0.8448007833396809\n",
      "****************************************************************************************************\n",
      "\n",
      " Best alpha Value 0.05 with highest roc_auc Score is 0.9012337852272319\n",
      "****************************************************************************************************\n"
     ]
    },
    {
     "data": {
      "image/png": "[encoded data removed]",
      "text/plain": [
       "<Figure size 432x288 with 1 Axes>"
      ]
     },
     "metadata": {},
     "output_type": "display_data"
    },
    {
     "name": "stdout",
     "output_type": "stream",
     "text": [
      "****************************************************************************************************\n"
     ]
    },
    {
     "data": {
      "image/png": "[encoded data removed]",
      "text/plain": [
       "<Figure size 432x288 with 1 Axes>"
      ]
     },
     "metadata": {},
     "output_type": "display_data"
    },
    {
     "name": "stdout",
     "output_type": "stream",
     "text": [
      "****************************************************************************************************\n"
     ]
    }
   ],
   "source": [
    "# Training NB Model\n",
    "best_alpha_idf = Multinomial_NB(X_tr,X_cv,Y_tr,Y_cv)"
   ]
  },
  {
   "cell_type": "code",
   "execution_count": 135,
   "id": "4e6d95c8",
   "metadata": {},
   "outputs": [
    {
     "name": "stdout",
     "output_type": "stream",
     "text": [
      "AUC Score 0.904010060518541\n",
      "**********************************************************************\n"
     ]
    },
    {
     "data": {
      "image/png": "[encoded data removed]",
      "text/plain": [
       "<Figure size 432x288 with 1 Axes>"
      ]
     },
     "metadata": {},
     "output_type": "display_data"
    },
    {
     "name": "stdout",
     "output_type": "stream",
     "text": [
      "macro f1 score for data : 0.7375149782110274\n",
      "micro f1 score for data: 0.8872579611739351\n",
      "hamming loss for data: 0.11274203882606489\n",
      "**********************************************************************\n",
      "Precision recall report for data:\n",
      "               precision    recall  f1-score   support\n",
      "\n",
      "           0       0.75      0.42      0.54     18834\n",
      "           1       0.90      0.97      0.94    101343\n",
      "\n",
      "    accuracy                           0.89    120177\n",
      "   macro avg       0.83      0.70      0.74    120177\n",
      "weighted avg       0.88      0.89      0.87    120177\n",
      "\n",
      "**********************************************************************\n"
     ]
    },
    {
     "data": {
      "image/png": "[encoded data removed]",
      "text/plain": [
       "<Figure size 432x288 with 2 Axes>"
      ]
     },
     "metadata": {},
     "output_type": "display_data"
    }
   ],
   "source": [
    "## Testing NB Model\n",
    "NB_tfidf, roc_auc_idf = Testing_model(X_tr,Y_tr,X_test,Y_test,best_alpha_idf)"
   ]
  },
  {
   "cell_type": "code",
   "execution_count": 136,
   "id": "d2903036",
   "metadata": {},
   "outputs": [
    {
     "data": {
      "text/html": [
       "<div>\n",
       "<style scoped>\n",
       "    .dataframe tbody tr th:only-of-type {\n",
       "        vertical-align: middle;\n",
       "    }\n",
       "\n",
       "    .dataframe tbody tr th {\n",
       "        vertical-align: top;\n",
       "    }\n",
       "\n",
       "    .dataframe thead th {\n",
       "        text-align: right;\n",
       "    }\n",
       "</style>\n",
       "<table border=\"1\" class=\"dataframe\">\n",
       "  <thead>\n",
       "    <tr style=\"text-align: right;\">\n",
       "      <th></th>\n",
       "      <th>Pos_Words</th>\n",
       "      <th>Pos_Importance</th>\n",
       "      <th>Neg_Words</th>\n",
       "      <th>Neg_Importance</th>\n",
       "    </tr>\n",
       "  </thead>\n",
       "  <tbody>\n",
       "    <tr>\n",
       "      <th>0</th>\n",
       "      <td>great</td>\n",
       "      <td>-6.374487</td>\n",
       "      <td>like</td>\n",
       "      <td>-6.744460</td>\n",
       "    </tr>\n",
       "    <tr>\n",
       "      <th>1</th>\n",
       "      <td>like</td>\n",
       "      <td>-6.423118</td>\n",
       "      <td>taste</td>\n",
       "      <td>-7.018721</td>\n",
       "    </tr>\n",
       "    <tr>\n",
       "      <th>2</th>\n",
       "      <td>good</td>\n",
       "      <td>-6.501029</td>\n",
       "      <td>product</td>\n",
       "      <td>-7.029185</td>\n",
       "    </tr>\n",
       "    <tr>\n",
       "      <th>3</th>\n",
       "      <td>love</td>\n",
       "      <td>-6.541061</td>\n",
       "      <td>would</td>\n",
       "      <td>-7.041933</td>\n",
       "    </tr>\n",
       "    <tr>\n",
       "      <th>4</th>\n",
       "      <td>coffee</td>\n",
       "      <td>-6.732261</td>\n",
       "      <td>one</td>\n",
       "      <td>-7.241319</td>\n",
       "    </tr>\n",
       "    <tr>\n",
       "      <th>...</th>\n",
       "      <td>...</td>\n",
       "      <td>...</td>\n",
       "      <td>...</td>\n",
       "      <td>...</td>\n",
       "    </tr>\n",
       "    <tr>\n",
       "      <th>3474704</th>\n",
       "      <td>prejudge coffee</td>\n",
       "      <td>-16.867552</td>\n",
       "      <td>phony chemically</td>\n",
       "      <td>-15.752789</td>\n",
       "    </tr>\n",
       "    <tr>\n",
       "      <th>3474705</th>\n",
       "      <td>going pouring</td>\n",
       "      <td>-16.867552</td>\n",
       "      <td>phony cappuccinos</td>\n",
       "      <td>-15.752789</td>\n",
       "    </tr>\n",
       "    <tr>\n",
       "      <th>3474706</th>\n",
       "      <td>going powdered</td>\n",
       "      <td>-16.867552</td>\n",
       "      <td>phony butter</td>\n",
       "      <td>-15.752789</td>\n",
       "    </tr>\n",
       "    <tr>\n",
       "      <th>3474707</th>\n",
       "      <td>going practices</td>\n",
       "      <td>-16.867552</td>\n",
       "      <td>phony baloney</td>\n",
       "      <td>-15.752789</td>\n",
       "    </tr>\n",
       "    <tr>\n",
       "      <th>3474708</th>\n",
       "      <td>starbucks chain</td>\n",
       "      <td>-16.867552</td>\n",
       "      <td>aaa</td>\n",
       "      <td>-15.752789</td>\n",
       "    </tr>\n",
       "  </tbody>\n",
       "</table>\n",
       "<p>3474709 rows × 4 columns</p>\n",
       "</div>"
      ],
      "text/plain": [
       "               Pos_Words  Pos_Importance          Neg_Words  Neg_Importance\n",
       "0                  great       -6.374487               like       -6.744460\n",
       "1                   like       -6.423118              taste       -7.018721\n",
       "2                   good       -6.501029            product       -7.029185\n",
       "3                   love       -6.541061              would       -7.041933\n",
       "4                 coffee       -6.732261                one       -7.241319\n",
       "...                  ...             ...                ...             ...\n",
       "3474704  prejudge coffee      -16.867552   phony chemically      -15.752789\n",
       "3474705    going pouring      -16.867552  phony cappuccinos      -15.752789\n",
       "3474706   going powdered      -16.867552       phony butter      -15.752789\n",
       "3474707  going practices      -16.867552      phony baloney      -15.752789\n",
       "3474708  starbucks chain      -16.867552                aaa      -15.752789\n",
       "\n",
       "[3474709 rows x 4 columns]"
      ]
     },
     "execution_count": 136,
     "metadata": {},
     "output_type": "execute_result"
    }
   ],
   "source": [
    "## Top Features using NB and tfidf\n",
    "Important_features(TfIdf, NB_tfidf)"
   ]
  },
  {
   "cell_type": "code",
   "execution_count": 140,
   "id": "8d8cc0e6",
   "metadata": {},
   "outputs": [
    {
     "name": "stdout",
     "output_type": "stream",
     "text": [
      "Collecting prettytable\n",
      "  Downloading prettytable-3.1.0-py3-none-any.whl (26 kB)\n",
      "Requirement already satisfied: wcwidth in /Users/jasonkim/opt/anaconda3/lib/python3.9/site-packages (from prettytable) (0.2.5)\n",
      "Installing collected packages: prettytable\n",
      "Successfully installed prettytable-3.1.0\n",
      "Note: you may need to restart the kernel to use updated packages.\n"
     ]
    }
   ],
   "source": [
    "pip install prettytable"
   ]
  },
  {
   "cell_type": "code",
   "execution_count": 141,
   "id": "ad75b3ac",
   "metadata": {},
   "outputs": [
    {
     "data": {
      "text/markdown": [
       "****Final Conlusion for MultinomialNB Model:****"
      ],
      "text/plain": [
       "<IPython.core.display.Markdown object>"
      ]
     },
     "metadata": {},
     "output_type": "display_data"
    },
    {
     "name": "stdout",
     "output_type": "stream",
     "text": [
      "+------------+---------------+--------------------+--------------------+\n",
      "| Vectorizer |     Model     | Hyperameter(alpha) |   Test Auc Score   |\n",
      "+------------+---------------+--------------------+--------------------+\n",
      "|    BoW     | MultinomialNB |        0.05        | 0.9209823342029133 |\n",
      "|   Tf-Idf   | MultinomialNB |        0.05        | 0.904010060518541  |\n",
      "+------------+---------------+--------------------+--------------------+\n"
     ]
    }
   ],
   "source": [
    "## CONCLUSION\n",
    "from prettytable import PrettyTable\n",
    "\n",
    "x = PrettyTable()\n",
    "x.field_names = [\"Vectorizer\",\"Model\",\"Hyperameter(alpha)\",\"Test Auc Score\"]\n",
    "####################################################################################\n",
    "x.add_row([\"BoW\",\"MultinomialNB\",best_alpha_bow, roc_auc_bow])\n",
    "x.add_row([\"Tf-Idf\",\"MultinomialNB\", best_alpha_idf, roc_auc_idf])\n",
    "\n",
    "####################################################################################\n",
    "from IPython.display import Markdown, display\n",
    "def printmd(string):\n",
    "    display(Markdown(string))\n",
    "    \n",
    "####################################################################################\n",
    "printmd('****Final Conlusion for MultinomialNB Model:****')\n",
    "print(x)"
   ]
  },
  {
   "cell_type": "code",
   "execution_count": 142,
   "id": "2b7d7add",
   "metadata": {},
   "outputs": [
    {
     "name": "stdout",
     "output_type": "stream",
     "text": [
      "Prediction using BOW: positive review\n",
      "Prediction using TF-Idf: positive review\n"
     ]
    }
   ],
   "source": [
    "# Individual prediction\n",
    "review = \"\"\"Great, healthier alternative to the usual bhujia we Indians are used to having along with our tea or our beer.\n",
    "            Much less salt than traditional tea snacks as well. I love the variety of texture as well with the very \n",
    "            crunchy peas to soft cheese bits, the sesame seed coated snack to good old roasted peanuts. It is pretty \n",
    "            expensive though, at 600rs at a kilo perhaps the most expensive tea snack Ive ever had.\"\"\"\n",
    "\n",
    "print(\"Prediction using BOW:\", Individual_Prediction(BOW, NB_bow, review))\n",
    "print(\"Prediction using TF-Idf:\", Individual_Prediction(TfIdf, NB_tfidf, review))"
   ]
  },
  {
   "cell_type": "code",
   "execution_count": null,
   "id": "3ccfd186",
   "metadata": {},
   "outputs": [],
   "source": []
  }
 ],
 "metadata": {
  "kernelspec": {
   "display_name": "Python 3 (ipykernel)",
   "language": "python",
   "name": "python3"
  },
  "language_info": {
   "codemirror_mode": {
    "name": "ipython",
    "version": 3
   },
   "file_extension": ".py",
   "mimetype": "text/x-python",
   "name": "python",
   "nbconvert_exporter": "python",
   "pygments_lexer": "ipython3",
   "version": "3.9.7"
  }
 },
 "nbformat": 4,
 "nbformat_minor": 5
}
